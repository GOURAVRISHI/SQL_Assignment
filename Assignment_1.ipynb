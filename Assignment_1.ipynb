{
 "cells": [
  {
   "cell_type": "code",
   "execution_count": 2,
   "metadata": {},
   "outputs": [],
   "source": [
    "# Q-1. Write an SQL query to fetch “FIRST_NAME” from Worker table using the alias name as <WORKER_NAME>."
   ]
  },
  {
   "cell_type": "code",
   "execution_count": 3,
   "metadata": {},
   "outputs": [
    {
     "data": {
      "text/plain": [
       "'Sol. \\nSELECT FIRST_NAME AS \"WORKER_NAME\" FROM Worker;'"
      ]
     },
     "execution_count": 3,
     "metadata": {},
     "output_type": "execute_result"
    }
   ],
   "source": [
    "'''Sol. \n",
    "SELECT FIRST_NAME AS \"WORKER_NAME\" FROM Worker;'''"
   ]
  },
  {
   "cell_type": "code",
   "execution_count": 4,
   "metadata": {},
   "outputs": [],
   "source": [
    "# Q-2. Write an SQL query to fetch unique values of DEPARTMENT from Worker table."
   ]
  },
  {
   "cell_type": "code",
   "execution_count": 5,
   "metadata": {},
   "outputs": [
    {
     "data": {
      "text/plain": [
       "'Sol. \\nSELECT DISTINCT DEPARTMENT FROM Worker;'"
      ]
     },
     "execution_count": 5,
     "metadata": {},
     "output_type": "execute_result"
    }
   ],
   "source": [
    "'''Sol. \n",
    "SELECT DISTINCT DEPARTMENT FROM Worker;'''"
   ]
  },
  {
   "cell_type": "code",
   "execution_count": 6,
   "metadata": {},
   "outputs": [],
   "source": [
    "# Q-3. Write an SQL query to show the last 5 record from a table."
   ]
  },
  {
   "cell_type": "code",
   "execution_count": 7,
   "metadata": {},
   "outputs": [
    {
     "data": {
      "text/plain": [
       "\"Sol. \\nCREATE TABLE employee123 (\\n    ID bigint (4) PRIMARY KEY,\\n    NAME VARCHAR(30) NOT NULL,\\n    PHONE BIGINT(10) NOT NULL UNIQUE,\\n    EMAIL VARCHAR(30) NOT NULL UNIQUE\\n    );\\n\\nINSERT INTO employee123 (ID, NAME, PHONE, EMAIL)\\nVALUES\\n(0001, 'Yogesh Vaishnav', 0000000001, 'yogesh@mail.com'),\\n(0002, 'Vishal Vishwakarma', 0000000002, 'chicha@mail.com'),\\n(0003, 'Ajit Yadav', 0000000003, 'ppa@mail.com'),\\n(0004, 'Ashish Yadav', 0000000004, 'baba@mail.com'),\\n(0005, 'Tanvi Thakur', 0000000005, 'tanvi@mail.com'),\\n(0006, 'Sam', 0000000006, 'sam@mail.com'),\\n(0007, 'Ron', 0000000007, 'ron@mail.com'),\\n(0008, 'Sara', 0000000008, 'sara@mail.com'),\\n(0009, 'Zara', 0000000009, 'zara@mail.com'),\\n(0010, 'Yoji', 0000000010, 'yoji@mail.com');\""
      ]
     },
     "execution_count": 7,
     "metadata": {},
     "output_type": "execute_result"
    }
   ],
   "source": [
    "'''Sol. \n",
    "CREATE TABLE employee123 (\n",
    "    ID bigint (4) PRIMARY KEY,\n",
    "    NAME VARCHAR(30) NOT NULL,\n",
    "    PHONE BIGINT(10) NOT NULL UNIQUE,\n",
    "    EMAIL VARCHAR(30) NOT NULL UNIQUE\n",
    "    );\n",
    "\n",
    "INSERT INTO employee123 (ID, NAME, PHONE, EMAIL)\n",
    "VALUES\n",
    "(0001, 'Yogesh Vaishnav', 0000000001, 'yogesh@mail.com'),\n",
    "(0002, 'Vishal Vishwakarma', 0000000002, 'chicha@mail.com'),\n",
    "(0003, 'Ajit Yadav', 0000000003, 'ppa@mail.com'),\n",
    "(0004, 'Ashish Yadav', 0000000004, 'baba@mail.com'),\n",
    "(0005, 'Tanvi Thakur', 0000000005, 'tanvi@mail.com'),\n",
    "(0006, 'Sam', 0000000006, 'sam@mail.com'),\n",
    "(0007, 'Ron', 0000000007, 'ron@mail.com'),\n",
    "(0008, 'Sara', 0000000008, 'sara@mail.com'),\n",
    "(0009, 'Zara', 0000000009, 'zara@mail.com'),\n",
    "(0010, 'Yoji', 0000000010, 'yoji@mail.com');'''"
   ]
  },
  {
   "cell_type": "code",
   "execution_count": 8,
   "metadata": {},
   "outputs": [
    {
     "data": {
      "text/plain": [
       "'(SELECT * FROM employee123 ORDER BY ID DESC LIMIT 5) ORDER by ID ASC;'"
      ]
     },
     "execution_count": 8,
     "metadata": {},
     "output_type": "execute_result"
    }
   ],
   "source": [
    "'''(SELECT * FROM employee123 ORDER BY ID DESC LIMIT 5) ORDER by ID ASC;'''"
   ]
  },
  {
   "cell_type": "code",
   "execution_count": null,
   "metadata": {},
   "outputs": [],
   "source": []
  }
 ],
 "metadata": {
  "kernelspec": {
   "display_name": "Python 3",
   "language": "python",
   "name": "python3"
  },
  "language_info": {
   "codemirror_mode": {
    "name": "ipython",
    "version": 3
   },
   "file_extension": ".py",
   "mimetype": "text/x-python",
   "name": "python",
   "nbconvert_exporter": "python",
   "pygments_lexer": "ipython3",
   "version": "3.8.5"
  }
 },
 "nbformat": 4,
 "nbformat_minor": 4
}
