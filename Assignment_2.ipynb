{
 "cells": [
  {
   "cell_type": "code",
   "execution_count": 3,
   "metadata": {},
   "outputs": [],
   "source": [
    "#Q-1. Write an SQL query to print the first three characters of  FIRST_NAME from Worker table."
   ]
  },
  {
   "cell_type": "code",
   "execution_count": 2,
   "metadata": {},
   "outputs": [
    {
     "data": {
      "text/plain": [
       "'\\nSELECT LEFT (FIRST_NAME,3) FROM Worker; \\nor\\nSELECT SUBSTRING (FIRST_NAME, 1, 3) From Worker;\\n\\n'"
      ]
     },
     "execution_count": 2,
     "metadata": {},
     "output_type": "execute_result"
    }
   ],
   "source": [
    "'''\n",
    "SELECT LEFT (FIRST_NAME,3) FROM Worker; \n",
    "or\n",
    "SELECT SUBSTRING (FIRST_NAME, 1, 3) From Worker;\n",
    "\n",
    "'''"
   ]
  },
  {
   "cell_type": "code",
   "execution_count": 3,
   "metadata": {},
   "outputs": [],
   "source": [
    "#Q-2. Write an SQL query to find the position of the alphabet (‘a’) in the first name column ‘Amitabh’ from Worker table."
   ]
  },
  {
   "cell_type": "code",
   "execution_count": 4,
   "metadata": {},
   "outputs": [
    {
     "data": {
      "text/plain": [
       "'\\nSELECT POSITION(\\'a\\' IN FIRST_NAME) FROM Worker WHERE FIRST_NAME = \"Amitabh\"; \\nor \\n\\n# For Case Sensitive Search\\nSELECT CHARINDEX(\\'a\\', \\'Amitabh\\' Collate Latin1_General_CS_AS) As Character_Position\\nor \\n\\n\\n# For non Case Sensitive Search\\nSELECT CHARINDEX(\\'a\\', \\'Amitabh\\' Collate Latin1_General_CI_AS) As Character_Position\\n\\n'"
      ]
     },
     "execution_count": 4,
     "metadata": {},
     "output_type": "execute_result"
    }
   ],
   "source": [
    "'''\n",
    "SELECT POSITION('a' IN FIRST_NAME) FROM Worker WHERE FIRST_NAME = \"Amitabh\"; \n",
    "or \n",
    "\n",
    "# For Case Sensitive Search\n",
    "SELECT CHARINDEX('a', 'Amitabh' Collate Latin1_General_CS_AS) As Character_Position;\n",
    "or \n",
    "\n",
    "\n",
    "# For non Case Sensitive Search\n",
    "SELECT CHARINDEX('a', 'Amitabh' Collate Latin1_General_CI_AS) As Character_Position;\n",
    "\n",
    "'''"
   ]
  },
  {
   "cell_type": "code",
   "execution_count": 5,
   "metadata": {},
   "outputs": [],
   "source": [
    "#Q-3. Write an SQL query to print the name of employees having the highest salary in each department."
   ]
  },
  {
   "cell_type": "code",
   "execution_count": 6,
   "metadata": {},
   "outputs": [
    {
     "data": {
      "text/plain": [
       "'\\nSELECT FIRST_NAME, LAST_NAME, A.DEPARTMENT, SALARY FROM Worker As A\\nINNER JOIN\\n(\\nSELECT DEPARTMENT, MAX(Salary) As MaxSalary From Worker Group By Department) As B\\n\\nON A.DEPARTMENT = B.DEPARTMENT\\nAND A.Salary= B.MaxSalary\\n\\nor \\nSELECT CONCAT(FIRST_NAME,\" \",LAST_NAME) AS \\'NAME\\' \\nFROM Worker\\nGroup By Department\\nHaving Max(SALARY)\\n'"
      ]
     },
     "execution_count": 6,
     "metadata": {},
     "output_type": "execute_result"
    }
   ],
   "source": [
    "'''\n",
    "SELECT FIRST_NAME, LAST_NAME, A.DEPARTMENT, SALARY FROM Worker As A\n",
    "INNER JOIN\n",
    "(\n",
    "SELECT DEPARTMENT, MAX(Salary) As MaxSalary From Worker Group By Department) As B\n",
    "\n",
    "ON A.DEPARTMENT = B.DEPARTMENT\n",
    "AND A.Salary= B.MaxSalary\n",
    "\n",
    "or \n",
    "SELECT CONCAT(FIRST_NAME,\" \",LAST_NAME) AS 'NAME' \n",
    "FROM Worker\n",
    "Group By Department\n",
    "Having Max(SALARY);\n",
    "'''"
   ]
  },
  {
   "cell_type": "code",
   "execution_count": null,
   "metadata": {},
   "outputs": [],
   "source": []
  },
  {
   "cell_type": "code",
   "execution_count": null,
   "metadata": {},
   "outputs": [],
   "source": []
  },
  {
   "cell_type": "code",
   "execution_count": null,
   "metadata": {},
   "outputs": [],
   "source": []
  },
  {
   "cell_type": "code",
   "execution_count": null,
   "metadata": {},
   "outputs": [],
   "source": []
  }
 ],
 "metadata": {
  "kernelspec": {
   "display_name": "Python 3",
   "language": "python",
   "name": "python3"
  },
  "language_info": {
   "codemirror_mode": {
    "name": "ipython",
    "version": 3
   },
   "file_extension": ".py",
   "mimetype": "text/x-python",
   "name": "python",
   "nbconvert_exporter": "python",
   "pygments_lexer": "ipython3",
   "version": "3.8.5"
  }
 },
 "nbformat": 4,
 "nbformat_minor": 4
}
